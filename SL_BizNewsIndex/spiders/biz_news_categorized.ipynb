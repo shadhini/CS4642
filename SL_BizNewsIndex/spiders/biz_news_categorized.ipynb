{
 "cells": [
  {
   "cell_type": "code",
   "execution_count": 1,
   "metadata": {},
   "outputs": [],
   "source": [
    "import scrapy"
   ]
  },
  {
   "cell_type": "code",
   "execution_count": 2,
   "metadata": {},
   "outputs": [],
   "source": [
    "class CategorizedBizNewsSpider(scrapy.Spider):\n",
    "    name = \"biz_news_categorized\" # name of the spider\n",
    "    \n",
    "    # returns an iterable of Requests which the Spider will begin to crawl from\n",
    "    def start_requests(self):\n",
    "        urls = [\n",
    "            'http://www.hirunews.lk/business/all-analysis.php',\n",
    "            'http://www.hirunews.lk/business/all-features.php',\n",
    "        ]\n",
    "    \n",
    "        for url in urls:\n",
    "            yield scrapy.Request(url=url, callback=self.parse)\n",
    "        \n",
    "    # method that will be called to handle response downloaded for each of the requests made\n",
    "    def parse(self, response):\n",
    "        for news_item in response.css('div.rp-mian'):\n",
    "            \n",
    "            if \"http://www.hirunews.lk/business/all-analysis.php\" in response.url:\n",
    "                category = \"analysis\"\n",
    "            elif \"http://www.hirunews.lk/business/all-features.php\" in response.url:\n",
    "                category = \"features\"\n",
    "            else:\n",
    "                category = \"None\"\n",
    "            date = news_item.css('div.time::text').extract_first()\n",
    "            title = news_item.css('div.lts-cntp a::text').extract_first()\n",
    "            short_description = news_item.css('div.lts-txt2::text').extract_first()\n",
    "            views = news_item.css('div.commnet a::text')[2].extract()\n",
    "            \n",
    "            yield {\n",
    "                \"date\": date,\n",
    "                \"category\": category,\n",
    "                \"title\": title,\n",
    "                \"short-description\": short_description,\n",
    "                \"views\": views,\n",
    "            }\n",
    "        try:\n",
    "            next_index = response.css('div.pagi_2 a::attr(title)').extract().index(\"next page\")\n",
    "            next_page = response.css('div.pagi_2 a::attr(href)')[next_index].extract()\n",
    "\n",
    "            if next_page is not None:\n",
    "                yield response.follow(next_page, callback=self.parse)\n",
    "                \n",
    "        except ValueError:\n",
    "            print (\"Crawling Finished\")"
   ]
  },
  {
   "cell_type": "code",
   "execution_count": null,
   "metadata": {},
   "outputs": [],
   "source": []
  }
 ],
 "metadata": {
  "kernelspec": {
   "display_name": "Python 3",
   "language": "python",
   "name": "python3"
  },
  "language_info": {
   "codemirror_mode": {
    "name": "ipython",
    "version": 3
   },
   "file_extension": ".py",
   "mimetype": "text/x-python",
   "name": "python",
   "nbconvert_exporter": "python",
   "pygments_lexer": "ipython3",
   "version": "3.6.4"
  }
 },
 "nbformat": 4,
 "nbformat_minor": 2
}
